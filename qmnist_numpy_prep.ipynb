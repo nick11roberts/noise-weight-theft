{
  "nbformat": 4,
  "nbformat_minor": 0,
  "metadata": {
    "colab": {
      "name": "qmnist_numpy_prep.ipynb",
      "version": "0.3.2",
      "provenance": [],
      "collapsed_sections": [],
      "include_colab_link": true
    },
    "kernelspec": {
      "name": "python3",
      "display_name": "Python 3"
    },
    "accelerator": "GPU"
  },
  "cells": [
    {
      "cell_type": "markdown",
      "metadata": {
        "id": "view-in-github",
        "colab_type": "text"
      },
      "source": [
        "<a href=\"https://colab.research.google.com/github/matthew-mcateer/noise-weight-theft/blob/master/qmnist_numpy_prep.ipynb\" target=\"_parent\"><img src=\"https://colab.research.google.com/assets/colab-badge.svg\" alt=\"Open In Colab\"/></a>"
      ]
    },
    {
      "cell_type": "code",
      "metadata": {
        "id": "SKUBNUacz9cN",
        "colab_type": "code",
        "outputId": "0e1afeb6-d25b-41d4-9747-ffde5fc9e3c3",
        "colab": {
          "base_uri": "https://localhost:8080/",
          "height": 68
        }
      },
      "source": [
        "%config InlineBackend.figure_format = 'retina'\n",
        "\n",
        "!wget -q https://github.com/facebookresearch/qmnist/raw/master/qmnist-test-images-idx3-ubyte.gz\n",
        "!wget -q https://github.com/facebookresearch/qmnist/raw/master/qmnist-test-labels-idx1-ubyte.gz\n",
        "!wget -q https://github.com/facebookresearch/qmnist/raw/master/qmnist-test-labels-idx2-int.gz\n",
        "!wget -q https://github.com/facebookresearch/qmnist/raw/master/qmnist-test-labels.tsv.gz\n",
        "!wget -q https://github.com/facebookresearch/qmnist/raw/master/qmnist-train-images-idx3-ubyte.gz\n",
        "!wget -q https://github.com/facebookresearch/qmnist/raw/master/qmnist-train-labels-idx2-int.gz\n",
        "!wget -q https://github.com/facebookresearch/qmnist/raw/master/qmnist-train-labels.tsv.gz\n",
        "!wget -q https://github.com/facebookresearch/qmnist/raw/master/xnist-images-idx3-ubyte.xz\n",
        "!wget -q https://github.com/facebookresearch/qmnist/raw/master/xnist-labels-idx2-int.xz\n",
        "!wget -q https://github.com/facebookresearch/qmnist/raw/master/xnist-labels.tsv.xz\n",
        "\n",
        "!gunzip qmnist-test-images-idx3-ubyte.gz\n",
        "!gunzip qmnist-test-labels-idx1-ubyte.gz\n",
        "!gunzip qmnist-test-labels-idx2-int.gz\n",
        "!gunzip qmnist-test-labels.tsv.gz\n",
        "!gunzip qmnist-train-images-idx3-ubyte.gz\n",
        "!gunzip qmnist-train-labels-idx2-int.gz\n",
        "!gunzip qmnist-train-labels.tsv.gz\n"
      ],
      "execution_count": 0,
      "outputs": [
        {
          "output_type": "stream",
          "text": [
            "gzip: xnist-images-idx3-ubyte.xz: unknown suffix -- ignored\n",
            "gzip: xnist-labels-idx2-int.xz: unknown suffix -- ignored\n",
            "gzip: xnist-labels.tsv.xz: unknown suffix -- ignored\n"
          ],
          "name": "stdout"
        }
      ]
    },
    {
      "cell_type": "code",
      "metadata": {
        "id": "TinCyh-l0Tqd",
        "colab_type": "code",
        "colab": {}
      },
      "source": [
        "import codecs\n",
        "import numpy as np\n",
        "import torch\n",
        "\n",
        "def get_int(b):\n",
        "    return int(codecs.encode(b, 'hex'), 16)\n",
        "\n",
        "def open_maybe_compressed_file(path):\n",
        "    if path.endswith('.gz'):\n",
        "        return gzip.open(path, 'rb')\n",
        "    elif path.endswith('.xz'):\n",
        "        return lzma.open(path, 'rb')\n",
        "    else:\n",
        "        return open(path,'rb')\n",
        "    \n",
        "def read_idx2_int(path):\n",
        "    with open_maybe_compressed_file(path) as f:\n",
        "        data = f.read()\n",
        "        assert get_int(data[:4]) == 12*256 + 2\n",
        "        length = get_int(data[4:8])\n",
        "        width = get_int(data[8:12])\n",
        "        parsed = np.frombuffer(data, dtype=np.dtype('>i4'), offset=12)\n",
        "        return torch.from_numpy(parsed.astype('i4')).view(length,width).long().numpy()\n",
        "\n",
        "def read_idx3_ubyte(path):\n",
        "    with open_maybe_compressed_file(path) as f:\n",
        "        data = f.read()\n",
        "        assert get_int(data[:4]) == 8 * 256 + 3\n",
        "        length = get_int(data[4:8])\n",
        "        num_rows = get_int(data[8:12])\n",
        "        num_cols = get_int(data[12:16])\n",
        "        parsed = np.frombuffer(data, dtype=np.uint8, offset=16)\n",
        "        return torch.from_numpy(parsed).view(length, num_rows, num_cols).numpy()"
      ],
      "execution_count": 0,
      "outputs": []
    },
    {
      "cell_type": "code",
      "metadata": {
        "id": "HqVkhsxAgIxc",
        "colab_type": "code",
        "outputId": "10c02e04-362c-4f4c-ef17-b6525236abaa",
        "colab": {
          "base_uri": "https://localhost:8080/",
          "height": 85
        }
      },
      "source": [
        "x_train = read_idx3_ubyte('qmnist-train-images-idx3-ubyte')\n",
        "y_train = read_idx2_int('qmnist-train-labels-idx2-int')\n",
        "x_test = read_idx3_ubyte('qmnist-test-images-idx3-ubyte')\n",
        "y_test = read_idx2_int('qmnist-test-labels-idx2-int')\n",
        "y_train = y_train[:,0].astype('float32')\n",
        "y_test = y_test[:,0].astype('float32')\n",
        "\n",
        "print(\"x_train: {}, {}, {}\".format(x_train.shape, type(x_train), type(x_train[0][0][0])))\n",
        "print(\"y_train: {}, {}, {}\".format(y_train.shape, type(y_train), type(y_train[0])))\n",
        "print(\"x_test:  {}, {}, {}\".format(x_test.shape, type(x_test), type(x_test[0][0][0])))\n",
        "print(\"y_test:  {}, {}, {}\".format(y_test.shape, type(y_test), type(y_test[0])))"
      ],
      "execution_count": 0,
      "outputs": [
        {
          "output_type": "stream",
          "text": [
            "x_train: (60000, 28, 28), <class 'numpy.ndarray'>, <class 'numpy.uint8'>\n",
            "y_train: (60000,), <class 'numpy.ndarray'>, <class 'numpy.float32'>\n",
            "x_test:  (60000, 28, 28), <class 'numpy.ndarray'>, <class 'numpy.uint8'>\n",
            "y_test:  (60000,), <class 'numpy.ndarray'>, <class 'numpy.float32'>\n"
          ],
          "name": "stdout"
        }
      ]
    },
    {
      "cell_type": "code",
      "metadata": {
        "id": "yjksQnN82fOU",
        "colab_type": "code",
        "colab": {}
      },
      "source": [
        "np.save('qmnist_x_train', x_train)\n",
        "np.save('qmnist_y_train', y_train)\n",
        "np.save('qmnist_x_test', x_test)\n",
        "np.save('qmnist_y_test', y_test)\n"
      ],
      "execution_count": 0,
      "outputs": []
    }
  ]
}